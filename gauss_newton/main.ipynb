{
 "cells": [
  {
   "cell_type": "code",
   "execution_count": 42,
   "metadata": {},
   "outputs": [],
   "source": [
    "import numpy as np\n",
    "import matplotlib.pyplot as plt\n",
    "import sympy as sym"
   ]
  },
  {
   "cell_type": "code",
   "execution_count": 43,
   "metadata": {},
   "outputs": [],
   "source": [
    "def gaussian(x, mu, sigma, a):\n",
    "    return a/(np.sqrt(2*np.pi)*sigma) * np.exp(-(x - mu)**2 / (2*sigma**2))"
   ]
  },
  {
   "cell_type": "code",
   "execution_count": 44,
   "metadata": {},
   "outputs": [],
   "source": [
    "rand = np.random.rand(100)\n",
    "rand = (2*rand - 1)*0.05"
   ]
  },
  {
   "cell_type": "code",
   "execution_count": 45,
   "metadata": {},
   "outputs": [],
   "source": [
    "arr_x = np.arange(100, 200, 1)\n",
    "arr_y = gaussian(arr_x, 150, 10, 30) + rand"
   ]
  },
  {
   "cell_type": "code",
   "execution_count": 46,
   "metadata": {},
   "outputs": [],
   "source": [
    "(x, a, b) = sym.symbols('x a b')"
   ]
  },
  {
   "cell_type": "code",
   "execution_count": 47,
   "metadata": {},
   "outputs": [],
   "source": [
    "def f(x, mu, sigma):\n",
    "    f = 30/(np.sqrt(2*np.pi)*sigma) * sym.exp(-(x - mu)**2 / (2*sigma**2))\n",
    "    return f"
   ]
  },
  {
   "cell_type": "code",
   "execution_count": 48,
   "metadata": {},
   "outputs": [],
   "source": [
    "def jacobi(p1, p2):\n",
    "    jacobi_mat = []\n",
    "    r_arr = []\n",
    "    for i in range(arr_x.shape[0]):\n",
    "        func = f(arr_x[i], a, b)\n",
    "        r = arr_y[i] - func\n",
    "        j1 = sym.diff(r, a)\n",
    "        j2 = sym.diff(r, b)\n",
    "        j1 = j1.subs([(a, p1), (b, p2)])\n",
    "        j2 = j2.subs([(a, p1), (b, p2)])\n",
    "        j = [j1,j2]\n",
    "        r = r.subs([(a, p1), (b, p2)])\n",
    "        jacobi_mat.append(j)\n",
    "        r_arr.append(r)\n",
    "    jacobi_mat = np.array(jacobi_mat).astype('float')\n",
    "    r_arr = np.array(r_arr).astype('float')\n",
    "    return jacobi_mat, r_arr"
   ]
  },
  {
   "cell_type": "code",
   "execution_count": 49,
   "metadata": {},
   "outputs": [],
   "source": [
    "init_a = 150\n",
    "init_b = 5\n",
    "params = np.array([init_a, init_b])"
   ]
  },
  {
   "cell_type": "code",
   "execution_count": 50,
   "metadata": {},
   "outputs": [],
   "source": [
    "inv = np.linalg.inv(np.dot(J.T, J))\n",
    "params = params - np.dot(np.dot(inv, J.T), r_arr)"
   ]
  },
  {
   "cell_type": "code",
   "execution_count": 51,
   "metadata": {},
   "outputs": [],
   "source": [
    "J, arr = jacobi(params[0], params[1])"
   ]
  },
  {
   "cell_type": "code",
   "execution_count": 53,
   "metadata": {},
   "outputs": [],
   "source": [
    "JJ = np.dot(J.T, J)"
   ]
  },
  {
   "cell_type": "code",
   "execution_count": 56,
   "metadata": {},
   "outputs": [],
   "source": [
    "D = np.diag(np.diag(JJ))"
   ]
  },
  {
   "cell_type": "code",
   "execution_count": 57,
   "metadata": {},
   "outputs": [
    {
     "data": {
      "text/plain": [
       "array([[1.0152556, 0.       ],\n",
       "       [0.       , 1.5228834]])"
      ]
     },
     "execution_count": 57,
     "metadata": {},
     "output_type": "execute_result"
    }
   ],
   "source": [
    "D"
   ]
  },
  {
   "cell_type": "code",
   "execution_count": 16,
   "metadata": {},
   "outputs": [],
   "source": [
    "while(True):\n",
    "    J, r_arr = jacobi(params[0], params[1])\n",
    "    inv = np.linalg.inv(np.dot(J.T, J))\n",
    "    new_params = params - np.dot(np.dot(inv, J.T), r_arr)\n",
    "    if (new_params[0] - params[0] <0.001) and (new_params[1] - params[1] <0.001):\n",
    "        break\n",
    "    params = new_params"
   ]
  },
  {
   "cell_type": "code",
   "execution_count": 17,
   "metadata": {},
   "outputs": [
    {
     "data": {
      "text/plain": [
       "array([0.3617499 , 0.55576095])"
      ]
     },
     "execution_count": 17,
     "metadata": {},
     "output_type": "execute_result"
    }
   ],
   "source": [
    "params"
   ]
  },
  {
   "cell_type": "code",
   "execution_count": 19,
   "metadata": {},
   "outputs": [
    {
     "data": {
      "text/plain": [
       "[<matplotlib.lines.Line2D at 0x115fbbba8>]"
      ]
     },
     "execution_count": 19,
     "metadata": {},
     "output_type": "execute_result"
    },
    {
     "data": {
      "image/png": "[encoded data removed]",
      "text/plain": [
       "<Figure size 432x288 with 1 Axes>"
      ]
     },
     "metadata": {},
     "output_type": "display_data"
    }
   ],
   "source": [
    "plt.plot(arr_S, arr_v)\n",
    "x_arr = np.arange(0, 4, 0.01)\n",
    "func = params[0] * x_arr / (x_arr + params[1])\n",
    "plt.plot(x_arr, func)"
   ]
  },
  {
   "cell_type": "code",
   "execution_count": null,
   "metadata": {},
   "outputs": [],
   "source": []
  }
 ],
 "metadata": {
  "kernelspec": {
   "display_name": "Python 3",
   "language": "python",
   "name": "python3"
  },
  "language_info": {
   "codemirror_mode": {
    "name": "ipython",
    "version": 3
   },
   "file_extension": ".py",
   "mimetype": "text/x-python",
   "name": "python",
   "nbconvert_exporter": "python",
   "pygments_lexer": "ipython3",
   "version": "3.6.5"
  }
 },
 "nbformat": 4,
 "nbformat_minor": 2
}
